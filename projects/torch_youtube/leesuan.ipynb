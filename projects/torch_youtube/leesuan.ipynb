{
 "cells": [
  {
   "cell_type": "code",
   "execution_count": 3,
   "metadata": {},
   "outputs": [],
   "source": [
    "import torch"
   ]
  },
  {
   "cell_type": "markdown",
   "metadata": {},
   "source": [
    "## 텐서 초기화와 데이터 타입"
   ]
  },
  {
   "cell_type": "markdown",
   "metadata": {},
   "source": [
    "### 초기화 되지 않은 텐서\n",
    "- 값이 없는 empty tensor\n",
    "    - 0에 가까운 아주 작은 값이 할당됨"
   ]
  },
  {
   "cell_type": "code",
   "execution_count": 7,
   "metadata": {},
   "outputs": [
    {
     "data": {
      "text/plain": [
       "tensor([[8.4078e-45, 0.0000e+00],\n",
       "        [0.0000e+00, 0.0000e+00],\n",
       "        [0.0000e+00, 0.0000e+00],\n",
       "        [1.8754e+28, 1.0153e-08]])"
      ]
     },
     "execution_count": 7,
     "metadata": {},
     "output_type": "execute_result"
    }
   ],
   "source": [
    "x = torch.empty(4,2)\n",
    "x"
   ]
  },
  {
   "cell_type": "markdown",
   "metadata": {},
   "source": [
    "### 무작위로 초기화된 텐서"
   ]
  },
  {
   "cell_type": "code",
   "execution_count": 8,
   "metadata": {},
   "outputs": [
    {
     "data": {
      "text/plain": [
       "tensor([[0.3586, 0.8730],\n",
       "        [0.4615, 0.1448],\n",
       "        [0.8230, 0.8729],\n",
       "        [0.1713, 0.8455]])"
      ]
     },
     "execution_count": 8,
     "metadata": {},
     "output_type": "execute_result"
    }
   ],
   "source": [
    "x = torch.rand(4,2)\n",
    "x"
   ]
  },
  {
   "cell_type": "markdown",
   "metadata": {},
   "source": [
    "### dtype = long이고, 0으로 채워진 텐서"
   ]
  },
  {
   "cell_type": "code",
   "execution_count": 9,
   "metadata": {},
   "outputs": [
    {
     "data": {
      "text/plain": [
       "tensor([[0, 0],\n",
       "        [0, 0],\n",
       "        [0, 0],\n",
       "        [0, 0]])"
      ]
     },
     "execution_count": 9,
     "metadata": {},
     "output_type": "execute_result"
    }
   ],
   "source": [
    "x = torch.zeros(4,2, dtype=torch.long)\n",
    "x"
   ]
  },
  {
   "cell_type": "markdown",
   "metadata": {},
   "source": [
    "### 텐서에 사용자 입력값 할당"
   ]
  },
  {
   "cell_type": "code",
   "execution_count": 10,
   "metadata": {},
   "outputs": [
    {
     "data": {
      "text/plain": [
       "tensor([3.0000, 2.3000])"
      ]
     },
     "execution_count": 10,
     "metadata": {},
     "output_type": "execute_result"
    }
   ],
   "source": [
    "x = torch.tensor([3, 2.3], dtype=torch.float)\n",
    "x"
   ]
  },
  {
   "cell_type": "code",
   "execution_count": 11,
   "metadata": {},
   "outputs": [
    {
     "name": "stdout",
     "output_type": "stream",
     "text": [
      "tensor([-0.3668])\n",
      "-0.366769015789032\n",
      "torch.float32\n"
     ]
    }
   ],
   "source": [
    "x = torch.randn(1)\n",
    "print(x)\n",
    "print(x.item())\n",
    "print(x.dtype)"
   ]
  },
  {
   "cell_type": "markdown",
   "metadata": {},
   "source": [
    "## GPU 사용"
   ]
  },
  {
   "cell_type": "code",
   "execution_count": 34,
   "metadata": {},
   "outputs": [
    {
     "name": "stdout",
     "output_type": "stream",
     "text": [
      "device: mps\n",
      "y: tensor([[1., 1., 1.],\n",
      "        [1., 1., 1.],\n",
      "        [1., 1., 1.]], device='mps:0')\n",
      "x: tensor([[1., 1., 1.],\n",
      "        [1., 1., 1.],\n",
      "        [1., 1., 1.]], device='mps:0', grad_fn=<ToCopyBackward0>)\n",
      "z: tensor([[2., 2., 2.],\n",
      "        [2., 2., 2.],\n",
      "        [2., 2., 2.]], device='mps:0', grad_fn=<AddBackward0>)\n",
      "tensor([[2., 2., 2.],\n",
      "        [2., 2., 2.],\n",
      "        [2., 2., 2.]], grad_fn=<ToCopyBackward0>)\n"
     ]
    },
    {
     "name": "stderr",
     "output_type": "stream",
     "text": [
      "/opt/homebrew/lib/python3.9/site-packages/torch/_tensor_str.py:103: UserWarning: The operator 'aten::bitwise_and.Tensor_out' is not currently supported on the MPS backend and will fall back to run on the CPU. This may have performance implications. (Triggered internally at  /Users/runner/work/pytorch/pytorch/pytorch/aten/src/ATen/mps/MPSFallback.mm:11.)\n",
      "  nonzero_finite_vals = torch.masked_select(tensor_view, torch.isfinite(tensor_view) & tensor_view.ne(0))\n"
     ]
    }
   ],
   "source": [
    "device = torch.device('mps' if torch.backends.mps.is_available() else 'cpu')\n",
    "print(f'device: {device}')\n",
    "\n",
    "y = torch.ones_like(x, device=device)\n",
    "print(f'y: {y}')\n",
    "\n",
    "x = x.to(device=device)\n",
    "print(f'x: {x}')\n",
    "\n",
    "z = x+y\n",
    "print(f'z: {z}')\n",
    "print(z.to('cpu', torch.float32))"
   ]
  },
  {
   "cell_type": "markdown",
   "metadata": {},
   "source": [
    "## 다차원 텐서 표현"
   ]
  },
  {
   "cell_type": "markdown",
   "metadata": {},
   "source": [
    "### 0D tensor\n",
    "- scalar, 숫자 하나\n",
    "- rank = 0\n",
    "- 축, 형상 없음"
   ]
  },
  {
   "cell_type": "code",
   "execution_count": 14,
   "metadata": {},
   "outputs": [
    {
     "name": "stdout",
     "output_type": "stream",
     "text": [
      "t0 dim: 0\n",
      "t0 shape: torch.Size([])\n"
     ]
    }
   ],
   "source": [
    "t0 = torch.tensor(0)\n",
    "print(f't0 dim: {t0.ndim}')\n",
    "print(f't0 shape: {t0.shape}')"
   ]
  },
  {
   "cell_type": "markdown",
   "metadata": {},
   "source": [
    "### 1D tensor\n",
    "- vector, 리스트와 비슷한 형태\n",
    "- rank = 1\n",
    "- 한 개의 축"
   ]
  },
  {
   "cell_type": "code",
   "execution_count": 15,
   "metadata": {},
   "outputs": [
    {
     "name": "stdout",
     "output_type": "stream",
     "text": [
      "t1 dim: 1\n",
      "t1 shape: torch.Size([3])\n"
     ]
    }
   ],
   "source": [
    "t1 = torch.tensor([1,2,3])\n",
    "print(f't1 dim: {t1.ndim}')\n",
    "print(f't1 shape: {t1.shape}')"
   ]
  },
  {
   "cell_type": "markdown",
   "metadata": {},
   "source": [
    "### 2D tensor\n",
    "- matrix, dataframe이 대부분 이런 형태\n",
    "- rank = 2\n",
    "- has rows, columns"
   ]
  },
  {
   "cell_type": "code",
   "execution_count": 20,
   "metadata": {},
   "outputs": [
    {
     "name": "stdout",
     "output_type": "stream",
     "text": [
      "t2 dim: 2\n",
      "t2 shape: torch.Size([2, 3])\n"
     ]
    }
   ],
   "source": [
    "t2 = torch.tensor([[1,2,3],\n",
    "                   [4,5,6]])\n",
    "print(f't2 dim: {t2.ndim}')\n",
    "print(f't2 shape: {t2.shape}')"
   ]
  },
  {
   "cell_type": "markdown",
   "metadata": {},
   "source": [
    "### 3D tensor\n",
    "- combination of matrices\n",
    "- rank = 3\n",
    "- 흑백 이미지는 3D tensor로 표현 가능\n",
    "    - pure white = 256, pure black = 0 일 때,\n",
    "    - 0 - 256 사이의 값으로 이미지 픽셀 표현 가능\n",
    "- shape은 밖에서 안으로 들어오는 형태로 표현됨"
   ]
  },
  {
   "cell_type": "code",
   "execution_count": 21,
   "metadata": {},
   "outputs": [
    {
     "name": "stdout",
     "output_type": "stream",
     "text": [
      "t3 dim: 3\n",
      "t3 shape: torch.Size([2, 3, 3])\n"
     ]
    }
   ],
   "source": [
    "t3 = torch.tensor([[[1,2,3],\n",
    "                    [4,5,6],\n",
    "                    [7,8,9]],\n",
    "                  \n",
    "                   [[1,2,3],\n",
    "                    [4,5,6],\n",
    "                    [7,8,9]]])\n",
    "print(f't3 dim: {t3.ndim}')\n",
    "print(f't3 shape: {t3.shape}')"
   ]
  },
  {
   "cell_type": "markdown",
   "metadata": {},
   "source": [
    "### 4D tensor\n",
    "- combination of 3D tensors\n",
    "- classic e.g. is color images"
   ]
  },
  {
   "cell_type": "markdown",
   "metadata": {},
   "source": [
    "## 텐서의 연산"
   ]
  },
  {
   "cell_type": "code",
   "execution_count": 23,
   "metadata": {},
   "outputs": [
    {
     "name": "stdout",
     "output_type": "stream",
     "text": [
      "a: tensor([[-1.0485,  0.4275],\n",
      "        [-0.8730,  0.2790],\n",
      "        [ 1.6914,  0.4224]])\n"
     ]
    },
    {
     "data": {
      "text/plain": [
       "tensor([[-2.0971,  0.8550],\n",
       "        [-1.7460,  0.5580],\n",
       "        [ 3.3828,  0.8448]])"
      ]
     },
     "execution_count": 23,
     "metadata": {},
     "output_type": "execute_result"
    }
   ],
   "source": [
    "import math\n",
    "\n",
    "a = torch.randn(3, 2)\n",
    "print(f'a: {a}')\n",
    "\n",
    "a * 2"
   ]
  },
  {
   "cell_type": "code",
   "execution_count": 27,
   "metadata": {},
   "outputs": [
    {
     "name": "stdout",
     "output_type": "stream",
     "text": [
      "tensor(-1.0485)\n",
      "tensor(1.6914)\n",
      "tensor(0.1498)\n"
     ]
    }
   ],
   "source": [
    "print(torch.min(a))\n",
    "print(torch.max(a))\n",
    "print(torch.mean(a))"
   ]
  },
  {
   "cell_type": "markdown",
   "metadata": {},
   "source": [
    "min, max에 dim 인자를 줄 경우 argmin, argmax도 함께 리턴\n",
    "- argmin, argmax: 최소값, 최대값을 가진 인덱스\n",
    "- dim = 0: column wise calculation\n",
    "- dim = 1: row wise calculation"
   ]
  },
  {
   "cell_type": "code",
   "execution_count": 33,
   "metadata": {},
   "outputs": [
    {
     "name": "stdout",
     "output_type": "stream",
     "text": [
      "tensor([[-1.0485,  0.4275],\n",
      "        [-0.8730,  0.2790],\n",
      "        [ 1.6914,  0.4224]]) \n",
      "\n",
      "a.min(dim=0): torch.return_types.min(\n",
      "values=tensor([-1.0485,  0.2790]),\n",
      "indices=tensor([0, 1]))\n",
      "\n",
      "a.max(dim=1): torch.return_types.max(\n",
      "values=tensor([0.4275, 0.2790, 1.6914]),\n",
      "indices=tensor([1, 1, 0]))\n"
     ]
    }
   ],
   "source": [
    "print(a, '\\n')\n",
    "print(f'a.min(dim=0): {a.min(dim=0)}\\n')\n",
    "print(f'a.max(dim=1): {a.max(dim=1)}')"
   ]
  },
  {
   "cell_type": "markdown",
   "metadata": {},
   "source": [
    "## 텐서의 조작"
   ]
  },
  {
   "cell_type": "markdown",
   "metadata": {},
   "source": [
    "### view\n",
    "- 텐서의 형태 변경할 때 사용\n",
    "- -1 값을 주면 해당 부분은 적당한 형태로 만들어줌"
   ]
  },
  {
   "cell_type": "code",
   "execution_count": 35,
   "metadata": {},
   "outputs": [
    {
     "name": "stdout",
     "output_type": "stream",
     "text": [
      "x:\n",
      "tensor([[-1.8391,  1.8208, -0.3182,  2.8753, -0.0398],\n",
      "        [-0.4582, -1.1158, -0.1244, -0.0500, -0.0336],\n",
      "        [ 0.3228, -1.5643, -0.3640,  1.2103, -0.4357],\n",
      "        [-1.2618, -1.9523,  1.6268, -0.6153,  0.3427]])\n",
      "\n",
      "x.view(20):\n",
      "tensor([-1.8391,  1.8208, -0.3182,  2.8753, -0.0398, -0.4582, -1.1158, -0.1244,\n",
      "        -0.0500, -0.0336,  0.3228, -1.5643, -0.3640,  1.2103, -0.4357, -1.2618,\n",
      "        -1.9523,  1.6268, -0.6153,  0.3427])\n",
      "\n",
      "x.view(5,-1):\n",
      "tensor([[-1.8391,  1.8208, -0.3182,  2.8753],\n",
      "        [-0.0398, -0.4582, -1.1158, -0.1244],\n",
      "        [-0.0500, -0.0336,  0.3228, -1.5643],\n",
      "        [-0.3640,  1.2103, -0.4357, -1.2618],\n",
      "        [-1.9523,  1.6268, -0.6153,  0.3427]])\n"
     ]
    }
   ],
   "source": [
    "x = torch.randn(4,5)\n",
    "print(f'x:\\n{x}\\n')\n",
    "print(f'x.view(20):\\n{x.view(20)}\\n')\n",
    "print(f'x.view(5,-1):\\n{x.view(5,-1)}')"
   ]
  },
  {
   "cell_type": "markdown",
   "metadata": {},
   "source": [
    "### sqeeze\n",
    "- 텐서의 차원 제거(축소)"
   ]
  },
  {
   "cell_type": "code",
   "execution_count": 42,
   "metadata": {},
   "outputs": [
    {
     "name": "stdout",
     "output_type": "stream",
     "text": [
      "a:\n",
      "tensor([[[ 0.2047,  0.3855,  0.8584],\n",
      "         [-0.9254, -2.2748, -0.3804],\n",
      "         [-0.3570,  0.1975, -0.2954]]])\n",
      "a shape: torch.Size([1, 3, 3])\n",
      "\n",
      "a squeezed:\n",
      "tensor([[ 0.2047,  0.3855,  0.8584],\n",
      "        [-0.9254, -2.2748, -0.3804],\n",
      "        [-0.3570,  0.1975, -0.2954]])\n",
      "a squeezed shape: torch.Size([3, 3])\n"
     ]
    }
   ],
   "source": [
    "a = torch.randn(1,3,3)\n",
    "print(f'a:\\n{a}')\n",
    "print(f'a shape: {a.shape}\\n')\n",
    "\n",
    "print(f'a squeezed:\\n{a.squeeze()}')\n",
    "print(f'a squeezed shape: {a.squeeze().shape}')"
   ]
  },
  {
   "cell_type": "markdown",
   "metadata": {},
   "source": [
    "### unsqeeze\n",
    "- 텐서의 차원 추가\n",
    "- dim 인자에 따라 추가되는 형태 결정"
   ]
  },
  {
   "cell_type": "code",
   "execution_count": 50,
   "metadata": {},
   "outputs": [
    {
     "name": "stdout",
     "output_type": "stream",
     "text": [
      "b:\n",
      "tensor([[-0.6152, -1.0412, -0.4704],\n",
      "        [ 1.4376,  0.9839, -0.0252],\n",
      "        [-1.8376, -0.4946, -0.1200]])\n",
      "\n",
      "b.unsqueeze(dim=0):\n",
      "tensor([[[-0.6152, -1.0412, -0.4704],\n",
      "         [ 1.4376,  0.9839, -0.0252],\n",
      "         [-1.8376, -0.4946, -0.1200]]])\n",
      "\n",
      "b.unsqueeze(dim=1):\n",
      "tensor([[[-0.6152, -1.0412, -0.4704]],\n",
      "\n",
      "        [[ 1.4376,  0.9839, -0.0252]],\n",
      "\n",
      "        [[-1.8376, -0.4946, -0.1200]]])\n",
      "\n",
      "b.unsqueeze(dim=2):\n",
      "tensor([[[-0.6152],\n",
      "         [-1.0412],\n",
      "         [-0.4704]],\n",
      "\n",
      "        [[ 1.4376],\n",
      "         [ 0.9839],\n",
      "         [-0.0252]],\n",
      "\n",
      "        [[-1.8376],\n",
      "         [-0.4946],\n",
      "         [-0.1200]]])\n"
     ]
    }
   ],
   "source": [
    "b = torch.randn(3,3)\n",
    "print(f'b:\\n{b}\\n')\n",
    "\n",
    "print(f'b.unsqueeze(dim=0):\\n{b.unsqueeze(dim=0)}\\n')\n",
    "print(f'b.unsqueeze(dim=1):\\n{b.unsqueeze(dim=1)}\\n')\n",
    "print(f'b.unsqueeze(dim=2):\\n{b.unsqueeze(dim=2)}')"
   ]
  },
  {
   "cell_type": "markdown",
   "metadata": {},
   "source": [
    "### chunk\n",
    "- 텐서 나누기"
   ]
  },
  {
   "cell_type": "code",
   "execution_count": 55,
   "metadata": {},
   "outputs": [
    {
     "name": "stdout",
     "output_type": "stream",
     "text": [
      "t:\n",
      "tensor([[ 0.0571, -0.5945,  1.0924,  0.8121,  0.5004,  0.3048],\n",
      "        [-1.5583,  1.3497, -1.1490,  0.0355, -1.4978,  0.3207],\n",
      "        [-0.2642,  0.7745, -0.3257,  0.4762,  0.7046,  1.5231]])\n",
      "t shape: torch.Size([3, 6])\n",
      "\n",
      "t1:\n",
      "tensor([[ 0.0571, -0.5945,  1.0924,  0.8121,  0.5004,  0.3048]])\n",
      "\n",
      "t2:\n",
      "tensor([[-1.5583,  1.3497, -1.1490,  0.0355, -1.4978,  0.3207]])\n",
      "\n",
      "t3:\n",
      "tensor([[-0.2642,  0.7745, -0.3257,  0.4762,  0.7046,  1.5231]])\n",
      "\n"
     ]
    }
   ],
   "source": [
    "t = torch.randn(3, 6)\n",
    "print(f't:\\n{t}')\n",
    "print(f't shape: {t.shape}\\n')\n",
    "\n",
    "t1, t2, t3 = torch.chunk(input=t, chunks=3, dim=0)\n",
    "print(f't1:\\n{t1}\\n')\n",
    "print(f't2:\\n{t2}\\n')\n",
    "print(f't3:\\n{t3}\\n')"
   ]
  },
  {
   "cell_type": "code",
   "execution_count": 57,
   "metadata": {},
   "outputs": [
    {
     "name": "stdout",
     "output_type": "stream",
     "text": [
      "t:\n",
      "tensor([[-1.2711, -0.8716, -1.3532,  0.6647,  0.3176, -0.8574],\n",
      "        [ 0.6044, -0.8736, -0.3142,  0.2563,  0.4859,  0.5440],\n",
      "        [-1.0335, -0.9162, -0.6500, -1.2590, -0.7080, -0.2232]])\n",
      "t shape: torch.Size([3, 6])\n",
      "\n",
      "t1:\n",
      "tensor([[-1.2711, -0.8716],\n",
      "        [ 0.6044, -0.8736],\n",
      "        [-1.0335, -0.9162]])\n",
      "\n",
      "t2:\n",
      "tensor([[-1.3532,  0.6647],\n",
      "        [-0.3142,  0.2563],\n",
      "        [-0.6500, -1.2590]])\n",
      "\n",
      "t3:\n",
      "tensor([[ 0.3176, -0.8574],\n",
      "        [ 0.4859,  0.5440],\n",
      "        [-0.7080, -0.2232]])\n",
      "\n"
     ]
    }
   ],
   "source": [
    "t = torch.randn(3, 6)\n",
    "print(f't:\\n{t}')\n",
    "print(f't shape: {t.shape}\\n')\n",
    "\n",
    "t1, t2, t3 = torch.chunk(input=t, chunks=3, dim=1)\n",
    "print(f't1:\\n{t1}\\n')\n",
    "print(f't2:\\n{t2}\\n')\n",
    "print(f't3:\\n{t3}\\n')"
   ]
  },
  {
   "cell_type": "markdown",
   "metadata": {},
   "source": [
    "### split\n",
    "- 텐서 나누기"
   ]
  },
  {
   "cell_type": "code",
   "execution_count": 8,
   "metadata": {},
   "outputs": [
    {
     "name": "stdout",
     "output_type": "stream",
     "text": [
      "t:\n",
      "tensor([[ 0.7273, -0.4271,  0.6636, -1.2901, -0.0281,  0.0121],\n",
      "        [-1.7035, -1.5388, -0.9028, -0.7766, -2.1420,  0.6513],\n",
      "        [-0.9461,  0.4016, -1.4053, -0.4333, -0.1167, -0.8599]])\n",
      "t shape: torch.Size([3, 6])\n",
      "\n",
      "t1:\n",
      "tensor([[ 0.7273, -0.4271,  0.6636],\n",
      "        [-1.7035, -1.5388, -0.9028],\n",
      "        [-0.9461,  0.4016, -1.4053]])\n",
      "\n",
      "t2:\n",
      "tensor([[-1.2901, -0.0281,  0.0121],\n",
      "        [-0.7766, -2.1420,  0.6513],\n",
      "        [-0.4333, -0.1167, -0.8599]])\n",
      "\n"
     ]
    }
   ],
   "source": [
    "t = torch.randn(3, 6)\n",
    "print(f't:\\n{t}')\n",
    "print(f't shape: {t.shape}\\n')\n",
    "\n",
    "t1, t2 = torch.split(tensor=t, split_size_or_sections=3, dim=1)\n",
    "print(f't1:\\n{t1}\\n')\n",
    "print(f't2:\\n{t2}\\n')\n",
    "# print(f't3:\\n{t3}\\n')"
   ]
  },
  {
   "cell_type": "markdown",
   "metadata": {},
   "source": [
    "## Autograd(자동미분)\n",
    "- 텐서의 모든 연산에 대해 자동미분 기능\n",
    "- 역전파 정의할 때 사용"
   ]
  },
  {
   "cell_type": "code",
   "execution_count": 9,
   "metadata": {},
   "outputs": [
    {
     "name": "stdout",
     "output_type": "stream",
     "text": [
      "a:\n",
      "tensor([[-5.4157e+00, -2.7539e+00, -1.5230e+00],\n",
      "        [-1.9505e-01, -1.3152e+00, -5.3721e-03],\n",
      "        [ 1.6154e+00, -6.5643e-01,  2.5839e+00]])\n",
      "False\n"
     ]
    }
   ],
   "source": [
    "a = torch.randn(3, 3)\n",
    "a = a*3\n",
    "print(f'a:\\n{a}')\n",
    "print(a.requires_grad)"
   ]
  },
  {
   "cell_type": "code",
   "execution_count": 11,
   "metadata": {},
   "outputs": [
    {
     "name": "stdout",
     "output_type": "stream",
     "text": [
      "True\n"
     ]
    }
   ],
   "source": [
    "# torch에서 메소드 뒤에 언더바가 붙으면 보통 inplace연산임\n",
    "a.requires_grad_(True)\n",
    "print(a.requires_grad)"
   ]
  },
  {
   "cell_type": "code",
   "execution_count": 12,
   "metadata": {},
   "outputs": [
    {
     "name": "stdout",
     "output_type": "stream",
     "text": [
      "b: 50.71821975708008\n",
      "<SumBackward0 object at 0x117cceee0>\n"
     ]
    }
   ],
   "source": [
    "b = (a*a).sum()\n",
    "print(f'b: {b}')\n",
    "print(b.grad_fn)"
   ]
  },
  {
   "cell_type": "markdown",
   "metadata": {},
   "source": [
    "## Gradient"
   ]
  },
  {
   "cell_type": "markdown",
   "metadata": {},
   "source": [
    "처음에 requires_grad=True로 설정하고 이후 연산을 수행하면 grad_fn에 AddBackward가 기록됨을 볼 수 있음"
   ]
  },
  {
   "cell_type": "code",
   "execution_count": 23,
   "metadata": {},
   "outputs": [
    {
     "data": {
      "text/plain": [
       "tensor([[1., 1., 1.],\n",
       "        [1., 1., 1.],\n",
       "        [1., 1., 1.]], requires_grad=True)"
      ]
     },
     "execution_count": 23,
     "metadata": {},
     "output_type": "execute_result"
    }
   ],
   "source": [
    "x = torch.ones(3,3, requires_grad=True)\n",
    "x"
   ]
  },
  {
   "cell_type": "code",
   "execution_count": 24,
   "metadata": {},
   "outputs": [
    {
     "data": {
      "text/plain": [
       "tensor([[6., 6., 6.],\n",
       "        [6., 6., 6.],\n",
       "        [6., 6., 6.]], grad_fn=<AddBackward0>)"
      ]
     },
     "execution_count": 24,
     "metadata": {},
     "output_type": "execute_result"
    }
   ],
   "source": [
    "y = x+5\n",
    "y"
   ]
  },
  {
   "cell_type": "code",
   "execution_count": 25,
   "metadata": {},
   "outputs": [
    {
     "name": "stdout",
     "output_type": "stream",
     "text": [
      "tensor([[36., 36., 36.],\n",
      "        [36., 36., 36.],\n",
      "        [36., 36., 36.]], grad_fn=<MulBackward0>)\n",
      "tensor(36., grad_fn=<MeanBackward0>)\n"
     ]
    }
   ],
   "source": [
    "z = y*y\n",
    "out = z.mean()\n",
    "print(z)\n",
    "print(out)"
   ]
  },
  {
   "cell_type": "code",
   "execution_count": 26,
   "metadata": {},
   "outputs": [
    {
     "name": "stdout",
     "output_type": "stream",
     "text": [
      "None\n"
     ]
    }
   ],
   "source": [
    "print(out.backward())"
   ]
  },
  {
   "cell_type": "code",
   "execution_count": 29,
   "metadata": {},
   "outputs": [
    {
     "name": "stdout",
     "output_type": "stream",
     "text": [
      "x:\n",
      "tensor([[1., 1., 1.],\n",
      "        [1., 1., 1.],\n",
      "        [1., 1., 1.]], requires_grad=True)\n",
      "x.grad:\n",
      "tensor([[1.3333, 1.3333, 1.3333],\n",
      "        [1.3333, 1.3333, 1.3333],\n",
      "        [1.3333, 1.3333, 1.3333]])\n"
     ]
    }
   ],
   "source": [
    "print(f'x:\\n{x}')\n",
    "print(f'x.grad:\\n{x.grad}')"
   ]
  },
  {
   "cell_type": "markdown",
   "metadata": {},
   "source": [
    "## pytorch 실전 분석"
   ]
  },
  {
   "cell_type": "code",
   "execution_count": 31,
   "metadata": {},
   "outputs": [],
   "source": [
    "from torch.utils.data import Dataset, DataLoader\n",
    "import torchvision.transforms as transforms\n",
    "from torchvision import datasets"
   ]
  },
  {
   "cell_type": "markdown",
   "metadata": {},
   "source": [
    "### MNIST"
   ]
  },
  {
   "cell_type": "code",
   "execution_count": 32,
   "metadata": {},
   "outputs": [],
   "source": [
    "mnist_transform = transforms.Compose([transforms.ToTensor(),\n",
    "                                      transforms.Normalize(mean=(0.5,), std=(1.0,))])"
   ]
  },
  {
   "cell_type": "code",
   "execution_count": 33,
   "metadata": {},
   "outputs": [
    {
     "name": "stdout",
     "output_type": "stream",
     "text": [
      "Downloading http://yann.lecun.com/exdb/mnist/train-images-idx3-ubyte.gz\n",
      "Downloading http://yann.lecun.com/exdb/mnist/train-images-idx3-ubyte.gz to ../torch_youtube/data/MNIST/raw/train-images-idx3-ubyte.gz\n"
     ]
    },
    {
     "data": {
      "application/vnd.jupyter.widget-view+json": {
       "model_id": "845298997e1c43a696ccfb20b6717466",
       "version_major": 2,
       "version_minor": 0
      },
      "text/plain": [
       "  0%|          | 0/9912422 [00:00<?, ?it/s]"
      ]
     },
     "metadata": {},
     "output_type": "display_data"
    },
    {
     "name": "stdout",
     "output_type": "stream",
     "text": [
      "Extracting ../torch_youtube/data/MNIST/raw/train-images-idx3-ubyte.gz to ../torch_youtube/data/MNIST/raw\n",
      "\n",
      "Downloading http://yann.lecun.com/exdb/mnist/train-labels-idx1-ubyte.gz\n",
      "Downloading http://yann.lecun.com/exdb/mnist/train-labels-idx1-ubyte.gz to ../torch_youtube/data/MNIST/raw/train-labels-idx1-ubyte.gz\n"
     ]
    },
    {
     "data": {
      "application/vnd.jupyter.widget-view+json": {
       "model_id": "1407fce9d4d64974891a8101037ef5f7",
       "version_major": 2,
       "version_minor": 0
      },
      "text/plain": [
       "  0%|          | 0/28881 [00:00<?, ?it/s]"
      ]
     },
     "metadata": {},
     "output_type": "display_data"
    },
    {
     "name": "stdout",
     "output_type": "stream",
     "text": [
      "Extracting ../torch_youtube/data/MNIST/raw/train-labels-idx1-ubyte.gz to ../torch_youtube/data/MNIST/raw\n",
      "\n",
      "Downloading http://yann.lecun.com/exdb/mnist/t10k-images-idx3-ubyte.gz\n",
      "Downloading http://yann.lecun.com/exdb/mnist/t10k-images-idx3-ubyte.gz to ../torch_youtube/data/MNIST/raw/t10k-images-idx3-ubyte.gz\n"
     ]
    },
    {
     "data": {
      "application/vnd.jupyter.widget-view+json": {
       "model_id": "7ac30d6c3b5f463c8d04c9724a57605f",
       "version_major": 2,
       "version_minor": 0
      },
      "text/plain": [
       "  0%|          | 0/1648877 [00:00<?, ?it/s]"
      ]
     },
     "metadata": {},
     "output_type": "display_data"
    },
    {
     "name": "stdout",
     "output_type": "stream",
     "text": [
      "Extracting ../torch_youtube/data/MNIST/raw/t10k-images-idx3-ubyte.gz to ../torch_youtube/data/MNIST/raw\n",
      "\n",
      "Downloading http://yann.lecun.com/exdb/mnist/t10k-labels-idx1-ubyte.gz\n",
      "Downloading http://yann.lecun.com/exdb/mnist/t10k-labels-idx1-ubyte.gz to ../torch_youtube/data/MNIST/raw/t10k-labels-idx1-ubyte.gz\n"
     ]
    },
    {
     "data": {
      "application/vnd.jupyter.widget-view+json": {
       "model_id": "03391eff0a6c411bba588e92fb5a1228",
       "version_major": 2,
       "version_minor": 0
      },
      "text/plain": [
       "  0%|          | 0/4542 [00:00<?, ?it/s]"
      ]
     },
     "metadata": {},
     "output_type": "display_data"
    },
    {
     "name": "stdout",
     "output_type": "stream",
     "text": [
      "Extracting ../torch_youtube/data/MNIST/raw/t10k-labels-idx1-ubyte.gz to ../torch_youtube/data/MNIST/raw\n",
      "\n"
     ]
    }
   ],
   "source": [
    "trainset = datasets.MNIST(root='../torch_youtube/data/',\n",
    "                          train=True, download=True,\n",
    "                          transform=mnist_transform)\n",
    "\n",
    "testset = datasets.MNIST(root='./data/',\n",
    "                         train=False, download=True,\n",
    "                         transform=mnist_transform)"
   ]
  },
  {
   "cell_type": "markdown",
   "metadata": {},
   "source": [
    "DataLoader는 데이터 전체를 보관했다가 모델을 실제로 학습할 때 batch_size 크기만큼 데이터 가져옴"
   ]
  },
  {
   "cell_type": "code",
   "execution_count": 35,
   "metadata": {},
   "outputs": [],
   "source": [
    "train_loader = DataLoader(dataset=trainset, batch_size=8, shuffle=True, num_workers=2)\n",
    "test_loader = DataLoader(dataset=testset, batch_size=8, shuffle=False, num_workers=2)"
   ]
  },
  {
   "cell_type": "code",
   "execution_count": 116,
   "metadata": {},
   "outputs": [
    {
     "name": "stdout",
     "output_type": "stream",
     "text": [
      "torch.Size([8, 1, 28, 28])\n",
      "torch.Size([8])\n"
     ]
    }
   ],
   "source": [
    "data_iter = iter(train_loader)\n",
    "imgs, labels = data_iter.next()\n",
    "\n",
    "print(imgs.shape) # [8, 1, 28, 28] 의미: 28*28 이미지, 1=흑백(3=컬러, RGB), 8장(=batch_size)\n",
    "print(labels.shape)"
   ]
  },
  {
   "cell_type": "code",
   "execution_count": 117,
   "metadata": {},
   "outputs": [
    {
     "data": {
      "text/plain": [
       "torch.Size([28, 28])"
      ]
     },
     "execution_count": 117,
     "metadata": {},
     "output_type": "execute_result"
    }
   ],
   "source": [
    "torch_img = torch.squeeze(imgs[0])\n",
    "torch_img.shape"
   ]
  },
  {
   "cell_type": "code",
   "execution_count": 120,
   "metadata": {},
   "outputs": [
    {
     "data": {
      "text/plain": [
       "(tensor([[[-0.5000, -0.5000, -0.5000, -0.5000, -0.5000, -0.5000, -0.5000,\n",
       "           -0.5000, -0.5000, -0.5000, -0.5000, -0.5000, -0.5000, -0.5000,\n",
       "           -0.5000, -0.5000, -0.5000, -0.5000, -0.5000, -0.5000, -0.5000,\n",
       "           -0.5000, -0.5000, -0.5000, -0.5000, -0.5000, -0.5000, -0.5000],\n",
       "          [-0.5000, -0.5000, -0.5000, -0.5000, -0.5000, -0.5000, -0.5000,\n",
       "           -0.5000, -0.5000, -0.5000, -0.5000, -0.5000, -0.5000, -0.5000,\n",
       "           -0.5000, -0.5000, -0.5000, -0.5000, -0.5000, -0.5000, -0.5000,\n",
       "           -0.5000, -0.5000, -0.5000, -0.5000, -0.5000, -0.5000, -0.5000],\n",
       "          [-0.5000, -0.5000, -0.5000, -0.5000, -0.5000, -0.5000, -0.5000,\n",
       "           -0.5000, -0.5000, -0.5000, -0.5000, -0.5000, -0.5000, -0.5000,\n",
       "           -0.5000, -0.5000, -0.5000, -0.5000, -0.5000, -0.5000, -0.5000,\n",
       "           -0.5000, -0.5000, -0.5000, -0.5000, -0.5000, -0.5000, -0.5000],\n",
       "          [-0.5000, -0.5000, -0.5000, -0.5000, -0.5000, -0.5000, -0.5000,\n",
       "           -0.5000, -0.5000, -0.5000, -0.5000, -0.5000, -0.5000, -0.5000,\n",
       "           -0.5000, -0.5000, -0.5000, -0.5000, -0.5000, -0.5000, -0.5000,\n",
       "           -0.5000, -0.5000, -0.5000, -0.5000, -0.5000, -0.5000, -0.5000],\n",
       "          [-0.5000, -0.5000, -0.5000, -0.5000, -0.5000, -0.5000, -0.5000,\n",
       "           -0.5000, -0.5000, -0.5000, -0.5000, -0.5000, -0.5000, -0.5000,\n",
       "           -0.5000, -0.5000, -0.5000, -0.5000, -0.5000, -0.5000, -0.5000,\n",
       "           -0.5000, -0.5000, -0.5000, -0.5000, -0.5000, -0.5000, -0.5000],\n",
       "          [-0.5000, -0.5000, -0.5000, -0.5000, -0.5000, -0.5000, -0.5000,\n",
       "           -0.5000, -0.5000, -0.5000, -0.5000, -0.5000, -0.5000, -0.5000,\n",
       "           -0.5000, -0.5000, -0.5000, -0.5000, -0.5000, -0.5000, -0.5000,\n",
       "           -0.5000, -0.5000, -0.5000, -0.5000, -0.5000, -0.5000, -0.5000],\n",
       "          [-0.5000, -0.5000, -0.5000, -0.5000, -0.5000, -0.5000, -0.5000,\n",
       "           -0.5000, -0.5000, -0.5000, -0.5000, -0.5000, -0.5000, -0.5000,\n",
       "           -0.5000, -0.5000, -0.5000, -0.5000, -0.5000, -0.5000, -0.5000,\n",
       "           -0.5000, -0.5000, -0.5000, -0.5000, -0.5000, -0.5000, -0.5000],\n",
       "          [-0.5000, -0.5000, -0.5000, -0.5000, -0.5000, -0.5000, -0.5000,\n",
       "           -0.5000,  0.5000,  0.4922,  0.4922,  0.4922,  0.4922,  0.5000,\n",
       "            0.4922,  0.4922,  0.4922, -0.0137, -0.2922, -0.5000, -0.5000,\n",
       "           -0.5000, -0.5000, -0.5000, -0.5000, -0.5000, -0.5000, -0.5000],\n",
       "          [-0.5000, -0.5000, -0.5000, -0.5000, -0.5000, -0.5000, -0.5000,\n",
       "           -0.0882,  0.4922,  0.4843,  0.4843,  0.4843,  0.4843,  0.4922,\n",
       "            0.4843,  0.4843,  0.4843,  0.4843,  0.2059, -0.5000, -0.5000,\n",
       "           -0.5000, -0.5000, -0.5000, -0.5000, -0.5000, -0.5000, -0.5000],\n",
       "          [-0.5000, -0.5000, -0.5000, -0.5000, -0.5000, -0.2725,  0.3510,\n",
       "            0.4451,  0.4490,  0.3431,  0.3431,  0.3431, -0.1627, -0.3627,\n",
       "           -0.3627,  0.3667,  0.4843,  0.4843,  0.2059, -0.5000, -0.5000,\n",
       "           -0.5000, -0.5000, -0.5000, -0.5000, -0.5000, -0.5000, -0.5000],\n",
       "          [-0.5000, -0.5000, -0.5000, -0.5000, -0.5000,  0.3510,  0.4843,\n",
       "            0.4843, -0.0961, -0.5000, -0.5000, -0.5000, -0.5000, -0.5000,\n",
       "           -0.5000,  0.3510,  0.4843,  0.4843,  0.2059, -0.5000, -0.5000,\n",
       "           -0.5000, -0.5000, -0.5000, -0.5000, -0.5000, -0.5000, -0.5000],\n",
       "          [-0.5000, -0.5000, -0.5000, -0.5000, -0.5000,  0.3510,  0.4843,\n",
       "            0.4843, -0.5000, -0.5000, -0.5000, -0.5000, -0.5000, -0.5000,\n",
       "           -0.5000,  0.3510,  0.4843,  0.4843,  0.2059, -0.5000, -0.5000,\n",
       "           -0.5000, -0.5000, -0.5000, -0.5000, -0.5000, -0.5000, -0.5000],\n",
       "          [-0.5000, -0.5000, -0.5000, -0.5000,  0.0686,  0.4922,  0.4922,\n",
       "            0.4922, -0.5000, -0.5000, -0.5000, -0.5000, -0.5000, -0.5000,\n",
       "           -0.3353,  0.3941,  0.4922,  0.4922,  0.2137, -0.5000, -0.5000,\n",
       "           -0.5000, -0.5000, -0.5000, -0.5000, -0.5000, -0.5000, -0.5000],\n",
       "          [-0.5000, -0.5000, -0.5000, -0.5000, -0.2569,  0.4059,  0.4843,\n",
       "            0.4843, -0.0882, -0.5000, -0.5000, -0.5000, -0.5000, -0.3353,\n",
       "            0.3078,  0.4843,  0.4843,  0.4843,  0.2059, -0.5000, -0.5000,\n",
       "           -0.5000, -0.5000, -0.5000, -0.5000, -0.5000, -0.5000, -0.5000],\n",
       "          [-0.5000, -0.5000, -0.5000, -0.5000, -0.5000,  0.2451,  0.4843,\n",
       "            0.4843,  0.4529,  0.3510,  0.3510,  0.3510,  0.3510,  0.3941,\n",
       "            0.4843,  0.4843,  0.4843,  0.4843,  0.2059, -0.5000, -0.5000,\n",
       "           -0.5000, -0.5000, -0.5000, -0.5000, -0.5000, -0.5000, -0.5000],\n",
       "          [-0.5000, -0.5000, -0.5000, -0.5000, -0.5000, -0.4176,  0.0569,\n",
       "            0.3627,  0.4922,  0.4843,  0.4843,  0.4843,  0.4843,  0.4922,\n",
       "            0.4843,  0.4843,  0.4843,  0.4843,  0.3314, -0.3157, -0.5000,\n",
       "           -0.5000, -0.5000, -0.5000, -0.5000, -0.5000, -0.5000, -0.5000],\n",
       "          [-0.5000, -0.5000, -0.5000, -0.5000, -0.5000, -0.5000, -0.5000,\n",
       "           -0.3000, -0.0137,  0.4843,  0.4843,  0.4843,  0.4843,  0.2882,\n",
       "           -0.2216, -0.1196,  0.4843,  0.4843,  0.4922, -0.0804, -0.5000,\n",
       "           -0.5000, -0.5000, -0.5000, -0.5000, -0.5000, -0.5000, -0.5000],\n",
       "          [-0.5000, -0.5000, -0.5000, -0.5000, -0.5000, -0.5000, -0.5000,\n",
       "           -0.5000, -0.5000, -0.5000,  0.1118, -0.0961, -0.5000, -0.5000,\n",
       "           -0.5000, -0.3941,  0.3314,  0.4922,  0.5000,  0.0843, -0.4608,\n",
       "           -0.5000, -0.5000, -0.5000, -0.5000, -0.5000, -0.5000, -0.5000],\n",
       "          [-0.5000, -0.5000, -0.5000, -0.5000, -0.5000, -0.5000, -0.5000,\n",
       "           -0.5000, -0.5000, -0.5000, -0.5000, -0.5000, -0.5000, -0.5000,\n",
       "           -0.5000, -0.5000, -0.0725,  0.4843,  0.4922,  0.4843, -0.3627,\n",
       "           -0.5000, -0.5000, -0.5000, -0.5000, -0.5000, -0.5000, -0.5000],\n",
       "          [-0.5000, -0.5000, -0.5000, -0.5000, -0.5000, -0.5000, -0.5000,\n",
       "           -0.5000, -0.5000, -0.5000, -0.5000, -0.5000, -0.5000, -0.5000,\n",
       "           -0.5000, -0.5000, -0.0725,  0.4843,  0.4922,  0.4843, -0.3627,\n",
       "           -0.5000, -0.5000, -0.5000, -0.5000, -0.5000, -0.5000, -0.5000],\n",
       "          [-0.5000, -0.5000, -0.5000, -0.5000, -0.5000, -0.5000, -0.5000,\n",
       "           -0.5000, -0.5000, -0.5000, -0.5000, -0.5000, -0.5000, -0.5000,\n",
       "           -0.5000, -0.5000, -0.0725,  0.4843,  0.4922,  0.4843, -0.3627,\n",
       "           -0.5000, -0.5000, -0.5000, -0.5000, -0.5000, -0.5000, -0.5000],\n",
       "          [-0.5000, -0.5000, -0.5000, -0.5000, -0.5000, -0.5000, -0.5000,\n",
       "           -0.5000, -0.5000, -0.5000, -0.5000, -0.5000, -0.5000, -0.5000,\n",
       "           -0.5000, -0.5000, -0.0725,  0.4843,  0.4922,  0.4843, -0.3627,\n",
       "           -0.5000, -0.5000, -0.5000, -0.5000, -0.5000, -0.5000, -0.5000],\n",
       "          [-0.5000, -0.5000, -0.5000, -0.5000, -0.5000, -0.5000, -0.5000,\n",
       "           -0.5000, -0.5000, -0.5000, -0.5000, -0.5000, -0.5000, -0.5000,\n",
       "           -0.5000, -0.5000, -0.5000,  0.2137,  0.5000,  0.4922, -0.3627,\n",
       "           -0.5000, -0.5000, -0.5000, -0.5000, -0.5000, -0.5000, -0.5000],\n",
       "          [-0.5000, -0.5000, -0.5000, -0.5000, -0.5000, -0.5000, -0.5000,\n",
       "           -0.5000, -0.5000, -0.5000, -0.5000, -0.5000, -0.5000, -0.5000,\n",
       "           -0.5000, -0.5000, -0.2529,  0.3667,  0.4922,  0.4843,  0.0412,\n",
       "           -0.5000, -0.5000, -0.5000, -0.5000, -0.5000, -0.5000, -0.5000],\n",
       "          [-0.5000, -0.5000, -0.5000, -0.5000, -0.5000, -0.5000, -0.5000,\n",
       "           -0.5000, -0.5000, -0.5000, -0.5000, -0.5000, -0.5000, -0.5000,\n",
       "           -0.5000, -0.5000, -0.4412,  0.2451,  0.4922,  0.4843,  0.3431,\n",
       "           -0.5000, -0.5000, -0.5000, -0.5000, -0.5000, -0.5000, -0.5000],\n",
       "          [-0.5000, -0.5000, -0.5000, -0.5000, -0.5000, -0.5000, -0.5000,\n",
       "           -0.5000, -0.5000, -0.5000, -0.5000, -0.5000, -0.5000, -0.5000,\n",
       "           -0.5000, -0.5000, -0.5000,  0.2059,  0.4922,  0.4843,  0.3431,\n",
       "           -0.5000, -0.5000, -0.5000, -0.5000, -0.5000, -0.5000, -0.5000],\n",
       "          [-0.5000, -0.5000, -0.5000, -0.5000, -0.5000, -0.5000, -0.5000,\n",
       "           -0.5000, -0.5000, -0.5000, -0.5000, -0.5000, -0.5000, -0.5000,\n",
       "           -0.5000, -0.5000, -0.5000,  0.2059,  0.4922,  0.4843, -0.1627,\n",
       "           -0.5000, -0.5000, -0.5000, -0.5000, -0.5000, -0.5000, -0.5000],\n",
       "          [-0.5000, -0.5000, -0.5000, -0.5000, -0.5000, -0.5000, -0.5000,\n",
       "           -0.5000, -0.5000, -0.5000, -0.5000, -0.5000, -0.5000, -0.5000,\n",
       "           -0.5000, -0.5000, -0.5000, -0.5000, -0.5000, -0.5000, -0.5000,\n",
       "           -0.5000, -0.5000, -0.5000, -0.5000, -0.5000, -0.5000, -0.5000]]]),\n",
       " 9)"
      ]
     },
     "execution_count": 120,
     "metadata": {},
     "output_type": "execute_result"
    }
   ],
   "source": [
    "a = torch.randint(len(trainset), size=(1, )).item()\n",
    "trainset[a]"
   ]
  },
  {
   "cell_type": "code",
   "execution_count": 122,
   "metadata": {},
   "outputs": [
    {
     "data": {
      "image/png": "[encoded data removed]",
      "text/plain": [
       "<Figure size 864x432 with 8 Axes>"
      ]
     },
     "metadata": {
      "needs_background": "light"
     },
     "output_type": "display_data"
    }
   ],
   "source": [
    "import matplotlib.pyplot as plt\n",
    "\n",
    "fig = plt.figure(figsize=(12, 6))\n",
    "cols, rows = 4, 2\n",
    "\n",
    "for i in range(1, cols*rows+1):\n",
    "    sample_idx = torch.randint(len(trainset), size=(1, )).item()\n",
    "    \n",
    "    # mnist dataset은 ([이미지 정보], 레이블) 이런 형태의 튜플로 저장되어 있음\n",
    "    # 따라서 이미지정보, 레이블값 따로 불러옴\n",
    "    img, label = trainset[sample_idx]\n",
    "    \n",
    "    fig.add_subplot(rows, cols, i)\n",
    "    plt.title(label)\n",
    "    plt.axis('off')\n",
    "    plt.imshow(img.squeeze(), cmap='gray')\n",
    "    \n",
    "plt.show()"
   ]
  },
  {
   "cell_type": "markdown",
   "metadata": {},
   "source": [
    "## 신경망 구성"
   ]
  },
  {
   "cell_type": "markdown",
   "metadata": {},
   "source": [
    "- layer: 신경망의 핵심 구조로 텐서를 입력받아 텐서를 출력함\n",
    "- module: layer가 모여서 구성\n",
    "- model: module이 모여서 구성"
   ]
  },
  {
   "cell_type": "markdown",
   "metadata": {},
   "source": [
    "### torch.nn\n",
    "주로 weights, bias 값들이 내부에서 자동으로 생성되는 레이어들을 사용할 때 사용 (weight 값은 직접 선언하지 않고 자동으로 계산됨)"
   ]
  },
  {
   "cell_type": "code",
   "execution_count": 123,
   "metadata": {},
   "outputs": [],
   "source": [
    "import torch.nn as nn"
   ]
  },
  {
   "cell_type": "markdown",
   "metadata": {},
   "source": [
    "#### nn.Linear"
   ]
  },
  {
   "cell_type": "code",
   "execution_count": 126,
   "metadata": {},
   "outputs": [
    {
     "name": "stdout",
     "output_type": "stream",
     "text": [
      "input:\n",
      "tensor([[-1.1413, -0.0560,  1.5468,  ...,  0.1221,  1.3220,  0.7786],\n",
      "        [ 0.1568,  0.1488,  0.9209,  ..., -0.1339, -0.8807,  0.3387],\n",
      "        [-0.3590, -0.7366, -0.1491,  ...,  0.9899, -0.1290,  2.0200],\n",
      "        ...,\n",
      "        [ 2.3308, -0.5938, -0.1984,  ...,  1.9948,  0.5858, -0.5360],\n",
      "        [ 1.3363, -1.5294, -1.5316,  ...,  0.1692,  1.4101,  2.6875],\n",
      "        [-1.0685, -1.7830, -1.2037,  ...,  1.3241,  1.1119, -0.5513]])\n",
      "input size: torch.Size([128, 20])\n",
      "\n",
      "model:\n",
      "Linear(in_features=20, out_features=30, bias=True)\n",
      "\n",
      "output:\n",
      "tensor([[ 0.6356,  0.6784, -0.3312,  ..., -0.0520,  0.0157,  0.4639],\n",
      "        [-0.9723,  0.0430,  1.2021,  ...,  0.0480, -0.5017,  0.4385],\n",
      "        [ 0.5299, -0.3899, -0.3727,  ..., -0.0709, -0.3235,  0.4126],\n",
      "        ...,\n",
      "        [ 0.3154, -0.6369, -0.6601,  ..., -0.1187, -0.4635,  0.9103],\n",
      "        [ 0.6178,  0.0842, -1.0483,  ..., -0.5047,  0.2705, -0.1836],\n",
      "        [ 0.6025,  0.3125,  0.3077,  ..., -0.3698,  0.9967,  0.5387]],\n",
      "       grad_fn=<AddmmBackward0>)\n",
      "output size: torch.Size([128, 30])\n"
     ]
    }
   ],
   "source": [
    "input = torch.randn(128, 20)\n",
    "print(f'input:\\n{input}')\n",
    "print(f'input size: {input.size()}\\n')\n",
    "\n",
    "model = nn.Linear(20, 30)\n",
    "print(f'model:\\n{model}\\n')\n",
    "\n",
    "output = model(input)\n",
    "print(f'output:\\n{output}')\n",
    "print(f'output size: {output.size()}')"
   ]
  },
  {
   "cell_type": "code",
   "execution_count": 129,
   "metadata": {},
   "outputs": [
    {
     "data": {
      "text/plain": [
       "30"
      ]
     },
     "execution_count": 129,
     "metadata": {},
     "output_type": "execute_result"
    }
   ],
   "source": [
    "len(output[127])"
   ]
  },
  {
   "cell_type": "code",
   "execution_count": null,
   "metadata": {},
   "outputs": [],
   "source": []
  }
 ],
 "metadata": {
  "kernelspec": {
   "display_name": "Python 3.9.13 64-bit",
   "language": "python",
   "name": "python3"
  },
  "language_info": {
   "codemirror_mode": {
    "name": "ipython",
    "version": 3
   },
   "file_extension": ".py",
   "mimetype": "text/x-python",
   "name": "python",
   "nbconvert_exporter": "python",
   "pygments_lexer": "ipython3",
   "version": "3.9.13"
  },
  "orig_nbformat": 4,
  "vscode": {
   "interpreter": {
    "hash": "b0fa6594d8f4cbf19f97940f81e996739fb7646882a419484c72d19e05852a7e"
   }
  }
 },
 "nbformat": 4,
 "nbformat_minor": 2
}
