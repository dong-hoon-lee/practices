{
 "cells": [
  {
   "cell_type": "code",
   "execution_count": 5,
   "metadata": {},
   "outputs": [],
   "source": [
    "import torch"
   ]
  },
  {
   "cell_type": "markdown",
   "metadata": {},
   "source": [
    "## 텐서 초기화와 데이터 타입"
   ]
  },
  {
   "cell_type": "markdown",
   "metadata": {},
   "source": [
    "### 초기화 되지 않은 텐서\n",
    "- 값이 없는 empty tensor\n",
    "    - 0에 가까운 아주 작은 값이 할당됨"
   ]
  },
  {
   "cell_type": "code",
   "execution_count": 7,
   "metadata": {},
   "outputs": [
    {
     "data": {
      "text/plain": [
       "tensor([[8.4078e-45, 0.0000e+00],\n",
       "        [0.0000e+00, 0.0000e+00],\n",
       "        [0.0000e+00, 0.0000e+00],\n",
       "        [1.8754e+28, 1.0153e-08]])"
      ]
     },
     "execution_count": 7,
     "metadata": {},
     "output_type": "execute_result"
    }
   ],
   "source": [
    "x = torch.empty(4,2)\n",
    "x"
   ]
  },
  {
   "cell_type": "markdown",
   "metadata": {},
   "source": [
    "### 무작위로 초기화된 텐서"
   ]
  },
  {
   "cell_type": "code",
   "execution_count": 8,
   "metadata": {},
   "outputs": [
    {
     "data": {
      "text/plain": [
       "tensor([[0.3586, 0.8730],\n",
       "        [0.4615, 0.1448],\n",
       "        [0.8230, 0.8729],\n",
       "        [0.1713, 0.8455]])"
      ]
     },
     "execution_count": 8,
     "metadata": {},
     "output_type": "execute_result"
    }
   ],
   "source": [
    "x = torch.rand(4,2)\n",
    "x"
   ]
  },
  {
   "cell_type": "markdown",
   "metadata": {},
   "source": [
    "### dtype = long이고, 0으로 채워진 텐서"
   ]
  },
  {
   "cell_type": "code",
   "execution_count": 9,
   "metadata": {},
   "outputs": [
    {
     "data": {
      "text/plain": [
       "tensor([[0, 0],\n",
       "        [0, 0],\n",
       "        [0, 0],\n",
       "        [0, 0]])"
      ]
     },
     "execution_count": 9,
     "metadata": {},
     "output_type": "execute_result"
    }
   ],
   "source": [
    "x = torch.zeros(4,2, dtype=torch.long)\n",
    "x"
   ]
  },
  {
   "cell_type": "markdown",
   "metadata": {},
   "source": [
    "### 텐서에 사용자 입력값 할당"
   ]
  },
  {
   "cell_type": "code",
   "execution_count": 10,
   "metadata": {},
   "outputs": [
    {
     "data": {
      "text/plain": [
       "tensor([3.0000, 2.3000])"
      ]
     },
     "execution_count": 10,
     "metadata": {},
     "output_type": "execute_result"
    }
   ],
   "source": [
    "x = torch.tensor([3, 2.3], dtype=torch.float)\n",
    "x"
   ]
  },
  {
   "cell_type": "code",
   "execution_count": 11,
   "metadata": {},
   "outputs": [
    {
     "name": "stdout",
     "output_type": "stream",
     "text": [
      "tensor([-0.3668])\n",
      "-0.366769015789032\n",
      "torch.float32\n"
     ]
    }
   ],
   "source": [
    "x = torch.randn(1)\n",
    "print(x)\n",
    "print(x.item())\n",
    "print(x.dtype)"
   ]
  },
  {
   "cell_type": "markdown",
   "metadata": {},
   "source": [
    "## GPU 사용"
   ]
  },
  {
   "cell_type": "code",
   "execution_count": 13,
   "metadata": {},
   "outputs": [
    {
     "name": "stdout",
     "output_type": "stream",
     "text": [
      "device: mps\n",
      "y: tensor([1.], device='mps:0')\n",
      "x: tensor([-0.3668], device='mps:0')\n",
      "z: tensor([0.6332], device='mps:0')\n",
      "tensor([0.6332])\n"
     ]
    }
   ],
   "source": [
    "device = torch.device('mps' if torch.backends.mps.is_available() else 'cpu')\n",
    "print(f'device: {device}')\n",
    "\n",
    "y = torch.ones_like(x, device=device)\n",
    "print(f'y: {y}')\n",
    "\n",
    "x = x.to(device=device)\n",
    "print(f'x: {x}')\n",
    "\n",
    "z = x+y\n",
    "print(f'z: {z}')\n",
    "print(z.to('cpu', torch.float32))"
   ]
  },
  {
   "cell_type": "markdown",
   "metadata": {},
   "source": [
    "## 다차원 텐서 표현"
   ]
  },
  {
   "cell_type": "markdown",
   "metadata": {},
   "source": [
    "### 0D tensor\n",
    "- scalar, 숫자 하나\n",
    "- rank = 0\n",
    "- 축, 형상 없음"
   ]
  },
  {
   "cell_type": "code",
   "execution_count": 14,
   "metadata": {},
   "outputs": [
    {
     "name": "stdout",
     "output_type": "stream",
     "text": [
      "t0 dim: 0\n",
      "t0 shape: torch.Size([])\n"
     ]
    }
   ],
   "source": [
    "t0 = torch.tensor(0)\n",
    "print(f't0 dim: {t0.ndim}')\n",
    "print(f't0 shape: {t0.shape}')"
   ]
  },
  {
   "cell_type": "markdown",
   "metadata": {},
   "source": [
    "### 1D tensor\n",
    "- vector, 리스트와 비슷한 형태\n",
    "- rank = 1\n",
    "- 한 개의 축"
   ]
  },
  {
   "cell_type": "code",
   "execution_count": 15,
   "metadata": {},
   "outputs": [
    {
     "name": "stdout",
     "output_type": "stream",
     "text": [
      "t1 dim: 1\n",
      "t1 shape: torch.Size([3])\n"
     ]
    }
   ],
   "source": [
    "t1 = torch.tensor([1,2,3])\n",
    "print(f't1 dim: {t1.ndim}')\n",
    "print(f't1 shape: {t1.shape}')"
   ]
  },
  {
   "cell_type": "markdown",
   "metadata": {},
   "source": [
    "### 2D tensor\n",
    "- matrix, dataframe이 대부분 이런 형태\n",
    "- rank = 2\n",
    "- has rows, columns"
   ]
  },
  {
   "cell_type": "code",
   "execution_count": 20,
   "metadata": {},
   "outputs": [
    {
     "name": "stdout",
     "output_type": "stream",
     "text": [
      "t2 dim: 2\n",
      "t2 shape: torch.Size([2, 3])\n"
     ]
    }
   ],
   "source": [
    "t2 = torch.tensor([[1,2,3],\n",
    "                   [4,5,6]])\n",
    "print(f't2 dim: {t2.ndim}')\n",
    "print(f't2 shape: {t2.shape}')"
   ]
  },
  {
   "cell_type": "markdown",
   "metadata": {},
   "source": [
    "### 3D tensor\n",
    "- combination of matrices\n",
    "- rank = 3\n",
    "- 흑백 이미지는 3D tensor로 표현 가능\n",
    "    - pure white = 256, pure black = 0 일 때,\n",
    "    - 0 - 256 사이의 값으로 이미지 픽셀 표현 가능\n",
    "- shape은 밖에서 안으로 들어오는 형태로 표현됨"
   ]
  },
  {
   "cell_type": "code",
   "execution_count": 21,
   "metadata": {},
   "outputs": [
    {
     "name": "stdout",
     "output_type": "stream",
     "text": [
      "t3 dim: 3\n",
      "t3 shape: torch.Size([2, 3, 3])\n"
     ]
    }
   ],
   "source": [
    "t3 = torch.tensor([[[1,2,3],\n",
    "                    [4,5,6],\n",
    "                    [7,8,9]],\n",
    "                  \n",
    "                   [[1,2,3],\n",
    "                    [4,5,6],\n",
    "                    [7,8,9]]])\n",
    "print(f't3 dim: {t3.ndim}')\n",
    "print(f't3 shape: {t3.shape}')"
   ]
  },
  {
   "cell_type": "markdown",
   "metadata": {},
   "source": [
    "### 4D tensor\n",
    "- combination of 3D tensors\n",
    "- classic e.g. is color images"
   ]
  },
  {
   "cell_type": "markdown",
   "metadata": {},
   "source": [
    "## 텐서의 연산"
   ]
  },
  {
   "cell_type": "code",
   "execution_count": 23,
   "metadata": {},
   "outputs": [
    {
     "name": "stdout",
     "output_type": "stream",
     "text": [
      "a: tensor([[-1.0485,  0.4275],\n",
      "        [-0.8730,  0.2790],\n",
      "        [ 1.6914,  0.4224]])\n"
     ]
    },
    {
     "data": {
      "text/plain": [
       "tensor([[-2.0971,  0.8550],\n",
       "        [-1.7460,  0.5580],\n",
       "        [ 3.3828,  0.8448]])"
      ]
     },
     "execution_count": 23,
     "metadata": {},
     "output_type": "execute_result"
    }
   ],
   "source": [
    "import math\n",
    "\n",
    "a = torch.randn(3, 2)\n",
    "print(f'a: {a}')\n",
    "\n",
    "a * 2"
   ]
  },
  {
   "cell_type": "code",
   "execution_count": 27,
   "metadata": {},
   "outputs": [
    {
     "name": "stdout",
     "output_type": "stream",
     "text": [
      "tensor(-1.0485)\n",
      "tensor(1.6914)\n",
      "tensor(0.1498)\n"
     ]
    }
   ],
   "source": [
    "print(torch.min(a))\n",
    "print(torch.max(a))\n",
    "print(torch.mean(a))"
   ]
  },
  {
   "cell_type": "markdown",
   "metadata": {},
   "source": [
    "min, max에 dim 인자를 줄 경우 argmin, argmax도 함께 리턴\n",
    "- argmin, argmax: 최소값, 최대값을 가진 인덱스\n",
    "- dim = 0: column wise calculation\n",
    "- dim = 1: row wise calculation"
   ]
  },
  {
   "cell_type": "code",
   "execution_count": 33,
   "metadata": {},
   "outputs": [
    {
     "name": "stdout",
     "output_type": "stream",
     "text": [
      "tensor([[-1.0485,  0.4275],\n",
      "        [-0.8730,  0.2790],\n",
      "        [ 1.6914,  0.4224]]) \n",
      "\n",
      "a.min(dim=0): torch.return_types.min(\n",
      "values=tensor([-1.0485,  0.2790]),\n",
      "indices=tensor([0, 1]))\n",
      "\n",
      "a.max(dim=1): torch.return_types.max(\n",
      "values=tensor([0.4275, 0.2790, 1.6914]),\n",
      "indices=tensor([1, 1, 0]))\n"
     ]
    }
   ],
   "source": [
    "print(a, '\\n')\n",
    "print(f'a.min(dim=0): {a.min(dim=0)}\\n')\n",
    "print(f'a.max(dim=1): {a.max(dim=1)}')"
   ]
  },
  {
   "cell_type": "markdown",
   "metadata": {},
   "source": [
    "## 텐서의 조작"
   ]
  },
  {
   "cell_type": "markdown",
   "metadata": {},
   "source": [
    "### view\n",
    "- 텐서의 형태 변경할 때 사용\n",
    "- -1 값을 주면 해당 부분은 적당한 형태로 만들어줌"
   ]
  },
  {
   "cell_type": "code",
   "execution_count": 35,
   "metadata": {},
   "outputs": [
    {
     "name": "stdout",
     "output_type": "stream",
     "text": [
      "x:\n",
      "tensor([[-1.8391,  1.8208, -0.3182,  2.8753, -0.0398],\n",
      "        [-0.4582, -1.1158, -0.1244, -0.0500, -0.0336],\n",
      "        [ 0.3228, -1.5643, -0.3640,  1.2103, -0.4357],\n",
      "        [-1.2618, -1.9523,  1.6268, -0.6153,  0.3427]])\n",
      "\n",
      "x.view(20):\n",
      "tensor([-1.8391,  1.8208, -0.3182,  2.8753, -0.0398, -0.4582, -1.1158, -0.1244,\n",
      "        -0.0500, -0.0336,  0.3228, -1.5643, -0.3640,  1.2103, -0.4357, -1.2618,\n",
      "        -1.9523,  1.6268, -0.6153,  0.3427])\n",
      "\n",
      "x.view(5,-1):\n",
      "tensor([[-1.8391,  1.8208, -0.3182,  2.8753],\n",
      "        [-0.0398, -0.4582, -1.1158, -0.1244],\n",
      "        [-0.0500, -0.0336,  0.3228, -1.5643],\n",
      "        [-0.3640,  1.2103, -0.4357, -1.2618],\n",
      "        [-1.9523,  1.6268, -0.6153,  0.3427]])\n"
     ]
    }
   ],
   "source": [
    "x = torch.randn(4,5)\n",
    "print(f'x:\\n{x}\\n')\n",
    "print(f'x.view(20):\\n{x.view(20)}\\n')\n",
    "print(f'x.view(5,-1):\\n{x.view(5,-1)}')"
   ]
  },
  {
   "cell_type": "markdown",
   "metadata": {},
   "source": [
    "### sqeeze\n",
    "- 텐서의 차원 제거(축소)"
   ]
  },
  {
   "cell_type": "code",
   "execution_count": 42,
   "metadata": {},
   "outputs": [
    {
     "name": "stdout",
     "output_type": "stream",
     "text": [
      "a:\n",
      "tensor([[[ 0.2047,  0.3855,  0.8584],\n",
      "         [-0.9254, -2.2748, -0.3804],\n",
      "         [-0.3570,  0.1975, -0.2954]]])\n",
      "a shape: torch.Size([1, 3, 3])\n",
      "\n",
      "a squeezed:\n",
      "tensor([[ 0.2047,  0.3855,  0.8584],\n",
      "        [-0.9254, -2.2748, -0.3804],\n",
      "        [-0.3570,  0.1975, -0.2954]])\n",
      "a squeezed shape: torch.Size([3, 3])\n"
     ]
    }
   ],
   "source": [
    "a = torch.randn(1,3,3)\n",
    "print(f'a:\\n{a}')\n",
    "print(f'a shape: {a.shape}\\n')\n",
    "\n",
    "print(f'a squeezed:\\n{a.squeeze()}')\n",
    "print(f'a squeezed shape: {a.squeeze().shape}')"
   ]
  },
  {
   "cell_type": "markdown",
   "metadata": {},
   "source": [
    "### unsqeeze\n",
    "- 텐서의 차원 추가\n",
    "- dim 인자에 따라 추가되는 형태 결정"
   ]
  },
  {
   "cell_type": "code",
   "execution_count": 50,
   "metadata": {},
   "outputs": [
    {
     "name": "stdout",
     "output_type": "stream",
     "text": [
      "b:\n",
      "tensor([[-0.6152, -1.0412, -0.4704],\n",
      "        [ 1.4376,  0.9839, -0.0252],\n",
      "        [-1.8376, -0.4946, -0.1200]])\n",
      "\n",
      "b.unsqueeze(dim=0):\n",
      "tensor([[[-0.6152, -1.0412, -0.4704],\n",
      "         [ 1.4376,  0.9839, -0.0252],\n",
      "         [-1.8376, -0.4946, -0.1200]]])\n",
      "\n",
      "b.unsqueeze(dim=1):\n",
      "tensor([[[-0.6152, -1.0412, -0.4704]],\n",
      "\n",
      "        [[ 1.4376,  0.9839, -0.0252]],\n",
      "\n",
      "        [[-1.8376, -0.4946, -0.1200]]])\n",
      "\n",
      "b.unsqueeze(dim=2):\n",
      "tensor([[[-0.6152],\n",
      "         [-1.0412],\n",
      "         [-0.4704]],\n",
      "\n",
      "        [[ 1.4376],\n",
      "         [ 0.9839],\n",
      "         [-0.0252]],\n",
      "\n",
      "        [[-1.8376],\n",
      "         [-0.4946],\n",
      "         [-0.1200]]])\n"
     ]
    }
   ],
   "source": [
    "b = torch.randn(3,3)\n",
    "print(f'b:\\n{b}\\n')\n",
    "\n",
    "print(f'b.unsqueeze(dim=0):\\n{b.unsqueeze(dim=0)}\\n')\n",
    "print(f'b.unsqueeze(dim=1):\\n{b.unsqueeze(dim=1)}\\n')\n",
    "print(f'b.unsqueeze(dim=2):\\n{b.unsqueeze(dim=2)}')"
   ]
  },
  {
   "cell_type": "markdown",
   "metadata": {},
   "source": [
    "### chunk\n",
    "- 텐서 나누기"
   ]
  },
  {
   "cell_type": "code",
   "execution_count": 55,
   "metadata": {},
   "outputs": [
    {
     "name": "stdout",
     "output_type": "stream",
     "text": [
      "t:\n",
      "tensor([[ 0.0571, -0.5945,  1.0924,  0.8121,  0.5004,  0.3048],\n",
      "        [-1.5583,  1.3497, -1.1490,  0.0355, -1.4978,  0.3207],\n",
      "        [-0.2642,  0.7745, -0.3257,  0.4762,  0.7046,  1.5231]])\n",
      "t shape: torch.Size([3, 6])\n",
      "\n",
      "t1:\n",
      "tensor([[ 0.0571, -0.5945,  1.0924,  0.8121,  0.5004,  0.3048]])\n",
      "\n",
      "t2:\n",
      "tensor([[-1.5583,  1.3497, -1.1490,  0.0355, -1.4978,  0.3207]])\n",
      "\n",
      "t3:\n",
      "tensor([[-0.2642,  0.7745, -0.3257,  0.4762,  0.7046,  1.5231]])\n",
      "\n"
     ]
    }
   ],
   "source": [
    "t = torch.randn(3, 6)\n",
    "print(f't:\\n{t}')\n",
    "print(f't shape: {t.shape}\\n')\n",
    "\n",
    "t1, t2, t3 = torch.chunk(input=t, chunks=3, dim=0)\n",
    "print(f't1:\\n{t1}\\n')\n",
    "print(f't2:\\n{t2}\\n')\n",
    "print(f't3:\\n{t3}\\n')"
   ]
  },
  {
   "cell_type": "code",
   "execution_count": 57,
   "metadata": {},
   "outputs": [
    {
     "name": "stdout",
     "output_type": "stream",
     "text": [
      "t:\n",
      "tensor([[-1.2711, -0.8716, -1.3532,  0.6647,  0.3176, -0.8574],\n",
      "        [ 0.6044, -0.8736, -0.3142,  0.2563,  0.4859,  0.5440],\n",
      "        [-1.0335, -0.9162, -0.6500, -1.2590, -0.7080, -0.2232]])\n",
      "t shape: torch.Size([3, 6])\n",
      "\n",
      "t1:\n",
      "tensor([[-1.2711, -0.8716],\n",
      "        [ 0.6044, -0.8736],\n",
      "        [-1.0335, -0.9162]])\n",
      "\n",
      "t2:\n",
      "tensor([[-1.3532,  0.6647],\n",
      "        [-0.3142,  0.2563],\n",
      "        [-0.6500, -1.2590]])\n",
      "\n",
      "t3:\n",
      "tensor([[ 0.3176, -0.8574],\n",
      "        [ 0.4859,  0.5440],\n",
      "        [-0.7080, -0.2232]])\n",
      "\n"
     ]
    }
   ],
   "source": [
    "t = torch.randn(3, 6)\n",
    "print(f't:\\n{t}')\n",
    "print(f't shape: {t.shape}\\n')\n",
    "\n",
    "t1, t2, t3 = torch.chunk(input=t, chunks=3, dim=1)\n",
    "print(f't1:\\n{t1}\\n')\n",
    "print(f't2:\\n{t2}\\n')\n",
    "print(f't3:\\n{t3}\\n')"
   ]
  },
  {
   "cell_type": "code",
   "execution_count": null,
   "metadata": {},
   "outputs": [],
   "source": []
  }
 ],
 "metadata": {
  "kernelspec": {
   "display_name": "Python 3.9.13 64-bit",
   "language": "python",
   "name": "python3"
  },
  "language_info": {
   "codemirror_mode": {
    "name": "ipython",
    "version": 3
   },
   "file_extension": ".py",
   "mimetype": "text/x-python",
   "name": "python",
   "nbconvert_exporter": "python",
   "pygments_lexer": "ipython3",
   "version": "3.9.13"
  },
  "orig_nbformat": 4,
  "vscode": {
   "interpreter": {
    "hash": "b0fa6594d8f4cbf19f97940f81e996739fb7646882a419484c72d19e05852a7e"
   }
  }
 },
 "nbformat": 4,
 "nbformat_minor": 2
}
